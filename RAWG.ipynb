{
 "cells": [
  {
   "cell_type": "code",
   "execution_count": 1,
   "metadata": {},
   "outputs": [],
   "source": [
    "# Import libraries and Dependencies to be used in the project\n",
    "import pandas as pd\n",
    "import numpy as np\n",
    "import requests\n",
    "import json\n",
    "import os\n",
    "from dotenv import load_dotenv"
   ]
  },
  {
   "cell_type": "code",
   "execution_count": 2,
   "metadata": {},
   "outputs": [],
   "source": [
    "#get private environment varibles from .env file\n",
    "load_dotenv()\n",
    "RAWG_API_KEY = os.getenv(\"RAWG_API_Key\")"
   ]
  },
  {
   "cell_type": "code",
   "execution_count": 3,
   "metadata": {},
   "outputs": [],
   "source": [
    "#Define the Twitch varibles for a request to the twitch API to get the access token\n",
    "\n",
    "rawg_url = 'https://api.rawg.io/api/games'\n",
    "# Define parameters for the request\n",
    "params = {\n",
    "    'page': 1,  # Example: requesting the first page of results\n",
    "    'page_size': 10,  # Example: number of results per page\n",
    "}\n"
   ]
  },
  {
   "cell_type": "code",
   "execution_count": 6,
   "metadata": {},
   "outputs": [],
   "source": [
    "#make request to RAWG API to get access token and store it in a variable\n",
    "rawg_request = requests.post(rawg_url, data=params)"
   ]
  },
  {
   "cell_type": "code",
   "execution_count": 7,
   "metadata": {},
   "outputs": [
    {
     "name": "stdout",
     "output_type": "stream",
     "text": [
      "{\"detail\":\"Authentication credentials were not provided.\"}\n"
     ]
    }
   ],
   "source": [
    "#Print the response from the request from Twitch API\n",
    "print(rawg_request.text)"
   ]
  },
  {
   "cell_type": "code",
   "execution_count": 8,
   "metadata": {},
   "outputs": [
    {
     "name": "stdout",
     "output_type": "stream",
     "text": [
      "Error: 401\n"
     ]
    }
   ],
   "source": [
    "\n",
    "# Define the base URL for the RAWG API\n",
    "base_url = 'https://api.rawg.io/api/'\n",
    "\n",
    "# Define the endpoint for accessing information about games\n",
    "endpoint = 'games'\n",
    "\n",
    "# Construct the complete URL for the request\n",
    "rawg_url = f\"{base_url}{endpoint}\"\n",
    "\n",
    "# Set up the request headers with your API key\n",
    "headers = {\n",
    "    'User-Agent': 'Mozilla/5.0',  # Some APIs require a user-agent header\n",
    "    'Authorization': f'Bearer {RAWG_API_KEY}'  # Include your API key here\n",
    "}\n",
    "\n",
    "# Make the GET request to the URL with the headers\n",
    "rawg_response = requests.get(rawg_url, headers=headers)\n",
    "\n",
    "# Check if the request was successful (status code 200)\n",
    "if rawg_response.status_code == 200:\n",
    "    # Extract the JSON data from the response\n",
    "    data = rawg_response.json()\n",
    "    \n",
    "    # Now you can work with the data as needed\n",
    "    # For example, print the first 10 game names\n",
    "    for game in data['results']:\n",
    "        print(game['name'])\n",
    "else:\n",
    "    # If the request was not successful, print an error message\n",
    "    print(f\"Error: {rawg_response.status_code}\")\n"
   ]
  },
  {
   "cell_type": "code",
   "execution_count": 5,
   "metadata": {},
   "outputs": [
    {
     "name": "stdout",
     "output_type": "stream",
     "text": [
      "{\"error\": \"The key parameter is not provided\"}\n"
     ]
    }
   ],
   "source": [
    "#Print the response from the request from RAWG API\n",
    "print(rawg_response.text)"
   ]
  }
 ],
 "metadata": {
  "kernelspec": {
   "display_name": "dev",
   "language": "python",
   "name": "python3"
  },
  "language_info": {
   "codemirror_mode": {
    "name": "ipython",
    "version": 3
   },
   "file_extension": ".py",
   "mimetype": "text/x-python",
   "name": "python",
   "nbconvert_exporter": "python",
   "pygments_lexer": "ipython3",
   "version": "3.10.13"
  }
 },
 "nbformat": 4,
 "nbformat_minor": 2
}
